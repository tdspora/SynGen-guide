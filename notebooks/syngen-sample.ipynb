{
 "cells": [
  {
   "attachments": {},
   "cell_type": "markdown",
   "metadata": {},
   "source": [
    "## Train a sample model on the housing dataset"
   ]
  },
  {
   "cell_type": "code",
   "execution_count": 14,
   "metadata": {},
   "outputs": [
    {
     "name": "stderr",
     "output_type": "stream",
     "text": [
      "\u001b[32m2023-06-26 15:58:04.934\u001b[0m | \u001b[1mINFO    \u001b[0m | \u001b[36msyngen.ml.custom_logger.custom_logger\u001b[0m:\u001b[36minfo\u001b[0m:\u001b[36m35\u001b[0m - \u001b[1mTraining process of the table - housing has started.\u001b[0m\n",
      "\u001b[32m2023-06-26 15:58:04.986\u001b[0m | \u001b[1mINFO    \u001b[0m | \u001b[36msyngen.ml.custom_logger.custom_logger\u001b[0m:\u001b[36minfo\u001b[0m:\u001b[36m35\u001b[0m - \u001b[1mThe subset of rows was set to 20640\u001b[0m\n",
      "\u001b[32m2023-06-26 15:58:04.994\u001b[0m | \u001b[1mINFO    \u001b[0m | \u001b[36msyngen.ml.custom_logger.custom_logger\u001b[0m:\u001b[36minfo\u001b[0m:\u001b[36m35\u001b[0m - \u001b[1mStart VAE training\u001b[0m\n",
      "\u001b[32m2023-06-26 15:58:04.995\u001b[0m | \u001b[34m\u001b[1mDEBUG   \u001b[0m | \u001b[36msyngen.ml.custom_logger.custom_logger\u001b[0m:\u001b[36mdebug\u001b[0m:\u001b[36m32\u001b[0m - \u001b[34m\u001b[1mTrain model with parameters: epochs=2, row_subset=20640, drop_null=False, batch_size=32\u001b[0m\n",
      "\u001b[32m2023-06-26 15:58:04.996\u001b[0m | \u001b[1mINFO    \u001b[0m | \u001b[36msyngen.ml.custom_logger.custom_logger\u001b[0m:\u001b[36minfo\u001b[0m:\u001b[36m35\u001b[0m - \u001b[1mNo primary key was set.\u001b[0m\n",
      "\u001b[32m2023-06-26 15:58:04.999\u001b[0m | \u001b[1mINFO    \u001b[0m | \u001b[36msyngen.ml.custom_logger.custom_logger\u001b[0m:\u001b[36minfo\u001b[0m:\u001b[36m35\u001b[0m - \u001b[1mNo unique keys were set.\u001b[0m\n",
      "\u001b[32m2023-06-26 15:58:05.001\u001b[0m | \u001b[1mINFO    \u001b[0m | \u001b[36msyngen.ml.custom_logger.custom_logger\u001b[0m:\u001b[36minfo\u001b[0m:\u001b[36m35\u001b[0m - \u001b[1mNo foreign keys were set.\u001b[0m\n"
     ]
    },
    {
     "name": "stderr",
     "output_type": "stream",
     "text": [
      "\u001b[32m2023-06-26 15:58:05.276\u001b[0m | \u001b[34m\u001b[1mDEBUG   \u001b[0m | \u001b[36msyngen.ml.custom_logger.custom_logger\u001b[0m:\u001b[36mdebug\u001b[0m:\u001b[36m32\u001b[0m - \u001b[34m\u001b[1mCount of string columns: 0; Count of float columns: 3; Count of int columns: 6; Count of categorical columns: 1; Count of date columns: 0; Count of binary columns: 0; Count of long text columns: 0; Count of uuid columns: 0\u001b[0m\n",
      "\u001b[32m2023-06-26 15:58:05.284\u001b[0m | \u001b[34m\u001b[1mDEBUG   \u001b[0m | \u001b[36msyngen.ml.custom_logger.custom_logger\u001b[0m:\u001b[36mdebug\u001b[0m:\u001b[36m32\u001b[0m - \u001b[34m\u001b[1mColumn 'longitude' assigned as float based feature\u001b[0m\n",
      "\u001b[32m2023-06-26 15:58:05.285\u001b[0m | \u001b[34m\u001b[1mDEBUG   \u001b[0m | \u001b[36msyngen.ml.custom_logger.custom_logger\u001b[0m:\u001b[36mdebug\u001b[0m:\u001b[36m32\u001b[0m - \u001b[34m\u001b[1mColumn 'latitude' assigned as float based feature\u001b[0m\n",
      "\u001b[32m2023-06-26 15:58:05.287\u001b[0m | \u001b[34m\u001b[1mDEBUG   \u001b[0m | \u001b[36msyngen.ml.custom_logger.custom_logger\u001b[0m:\u001b[36mdebug\u001b[0m:\u001b[36m32\u001b[0m - \u001b[34m\u001b[1mColumn 'housing_median_age' assigned as int based feature\u001b[0m\n",
      "\u001b[32m2023-06-26 15:58:05.289\u001b[0m | \u001b[34m\u001b[1mDEBUG   \u001b[0m | \u001b[36msyngen.ml.custom_logger.custom_logger\u001b[0m:\u001b[36mdebug\u001b[0m:\u001b[36m32\u001b[0m - \u001b[34m\u001b[1mColumn 'total_rooms' assigned as int based feature\u001b[0m\n",
      "\u001b[32m2023-06-26 15:58:05.290\u001b[0m | \u001b[1mINFO    \u001b[0m | \u001b[36msyngen.ml.custom_logger.custom_logger\u001b[0m:\u001b[36minfo\u001b[0m:\u001b[36m35\u001b[0m - \u001b[1mColumn 'total_bedrooms' contains 207 (1%) empty values out of 20640. Filling them with mean.\u001b[0m\n",
      "\u001b[32m2023-06-26 15:58:05.297\u001b[0m | \u001b[34m\u001b[1mDEBUG   \u001b[0m | \u001b[36msyngen.ml.custom_logger.custom_logger\u001b[0m:\u001b[36mdebug\u001b[0m:\u001b[36m32\u001b[0m - \u001b[34m\u001b[1mColumn 'total_bedrooms' assigned as int based feature\u001b[0m\n",
      "\u001b[32m2023-06-26 15:58:05.298\u001b[0m | \u001b[34m\u001b[1mDEBUG   \u001b[0m | \u001b[36msyngen.ml.custom_logger.custom_logger\u001b[0m:\u001b[36mdebug\u001b[0m:\u001b[36m32\u001b[0m - \u001b[34m\u001b[1mColumn 'total_bedrooms_null' assigned as int based feature\u001b[0m\n",
      "\u001b[32m2023-06-26 15:58:05.300\u001b[0m | \u001b[34m\u001b[1mDEBUG   \u001b[0m | \u001b[36msyngen.ml.custom_logger.custom_logger\u001b[0m:\u001b[36mdebug\u001b[0m:\u001b[36m32\u001b[0m - \u001b[34m\u001b[1mColumn 'population' assigned as int based feature\u001b[0m\n",
      "\u001b[32m2023-06-26 15:58:05.301\u001b[0m | \u001b[34m\u001b[1mDEBUG   \u001b[0m | \u001b[36msyngen.ml.custom_logger.custom_logger\u001b[0m:\u001b[36mdebug\u001b[0m:\u001b[36m32\u001b[0m - \u001b[34m\u001b[1mColumn 'households' assigned as int based feature\u001b[0m\n",
      "\u001b[32m2023-06-26 15:58:05.303\u001b[0m | \u001b[34m\u001b[1mDEBUG   \u001b[0m | \u001b[36msyngen.ml.custom_logger.custom_logger\u001b[0m:\u001b[36mdebug\u001b[0m:\u001b[36m32\u001b[0m - \u001b[34m\u001b[1mColumn 'median_income' assigned as float based feature\u001b[0m\n",
      "\u001b[32m2023-06-26 15:58:05.305\u001b[0m | \u001b[34m\u001b[1mDEBUG   \u001b[0m | \u001b[36msyngen.ml.custom_logger.custom_logger\u001b[0m:\u001b[36mdebug\u001b[0m:\u001b[36m32\u001b[0m - \u001b[34m\u001b[1mColumn 'median_house_value' assigned as int based feature\u001b[0m\n",
      "\u001b[32m2023-06-26 15:58:05.308\u001b[0m | \u001b[34m\u001b[1mDEBUG   \u001b[0m | \u001b[36msyngen.ml.custom_logger.custom_logger\u001b[0m:\u001b[36mdebug\u001b[0m:\u001b[36m32\u001b[0m - \u001b[34m\u001b[1mColumn 'ocean_proximity' assigned as categorical based feature\u001b[0m\n",
      "645it [01:58,  5.44it/s]\n",
      "\u001b[32m2023-06-26 16:00:04.607\u001b[0m | \u001b[1mINFO    \u001b[0m | \u001b[36msyngen.ml.custom_logger.custom_logger\u001b[0m:\u001b[36minfo\u001b[0m:\u001b[36m35\u001b[0m - \u001b[1mepoch: 0, loss: 1.5594409704208374, time: 118.62044191360474, sec\u001b[0m\n",
      "645it [01:54,  5.61it/s]\n",
      "\u001b[32m2023-06-26 16:01:59.568\u001b[0m | \u001b[1mINFO    \u001b[0m | \u001b[36msyngen.ml.custom_logger.custom_logger\u001b[0m:\u001b[36minfo\u001b[0m:\u001b[36m35\u001b[0m - \u001b[1mepoch: 1, loss: 0.5774837136268616, time: 114.96066451072693, sec\u001b[0m\n",
      "\u001b[32m2023-06-26 16:01:59.569\u001b[0m | \u001b[1mINFO    \u001b[0m | \u001b[36msyngen.ml.custom_logger.custom_logger\u001b[0m:\u001b[36minfo\u001b[0m:\u001b[36m35\u001b[0m - \u001b[1mFit sampler\u001b[0m\n",
      "\u001b[32m2023-06-26 16:01:59.596\u001b[0m | \u001b[1mINFO    \u001b[0m | \u001b[36msyngen.ml.custom_logger.custom_logger\u001b[0m:\u001b[36minfo\u001b[0m:\u001b[36m35\u001b[0m - \u001b[1mStart encoding\u001b[0m\n"
     ]
    },
    {
     "name": "stdout",
     "output_type": "stream",
     "text": [
      "645/645 [==============================] - 1s 1ms/step\n"
     ]
    },
    {
     "name": "stderr",
     "output_type": "stream",
     "text": [
      "\u001b[32m2023-06-26 16:02:00.855\u001b[0m | \u001b[1mINFO    \u001b[0m | \u001b[36msyngen.ml.custom_logger.custom_logger\u001b[0m:\u001b[36minfo\u001b[0m:\u001b[36m35\u001b[0m - \u001b[1mCreating BayesianGaussianMixture\u001b[0m\n",
      "\u001b[32m2023-06-26 16:02:00.856\u001b[0m | \u001b[1mINFO    \u001b[0m | \u001b[36msyngen.ml.custom_logger.custom_logger\u001b[0m:\u001b[36minfo\u001b[0m:\u001b[36m35\u001b[0m - \u001b[1mFitting BayesianGaussianMixture\u001b[0m\n",
      "\u001b[32m2023-06-26 16:02:44.516\u001b[0m | \u001b[1mINFO    \u001b[0m | \u001b[36msyngen.ml.custom_logger.custom_logger\u001b[0m:\u001b[36minfo\u001b[0m:\u001b[36m35\u001b[0m - \u001b[1mFinished fitting BayesianGaussianMixture\u001b[0m\n",
      "\u001b[32m2023-06-26 16:02:44.630\u001b[0m | \u001b[1mINFO    \u001b[0m | \u001b[36msyngen.ml.custom_logger.custom_logger\u001b[0m:\u001b[36minfo\u001b[0m:\u001b[36m35\u001b[0m - \u001b[1mSaved VAE state in model_artifacts/resources/housing/vae/checkpoints\u001b[0m\n",
      "\u001b[32m2023-06-26 16:02:44.631\u001b[0m | \u001b[1mINFO    \u001b[0m | \u001b[36msyngen.ml.custom_logger.custom_logger\u001b[0m:\u001b[36minfo\u001b[0m:\u001b[36m35\u001b[0m - \u001b[1mFinished VAE training\u001b[0m\n",
      "\u001b[32m2023-06-26 16:02:44.635\u001b[0m | \u001b[1mINFO    \u001b[0m | \u001b[36msyngen.ml.custom_logger.custom_logger\u001b[0m:\u001b[36minfo\u001b[0m:\u001b[36m35\u001b[0m - \u001b[1mNo columns to train kde over found\u001b[0m\n",
      "\u001b[32m2023-06-26 16:02:44.636\u001b[0m | \u001b[1mINFO    \u001b[0m | \u001b[36msyngen.ml.custom_logger.custom_logger\u001b[0m:\u001b[36minfo\u001b[0m:\u001b[36m35\u001b[0m - \u001b[1mTraining of the table - housing was completed\u001b[0m\n"
     ]
    }
   ],
   "source": [
    "from syngen.ml.worker import Worker\n",
    "\n",
    "\n",
    "settings = {\n",
    "    \"source\": './data/housing.csv',\n",
    "    \"epochs\": 2,\n",
    "    \"drop_null\": False,\n",
    "    \"print_report\": False,\n",
    "    \"row_limit\": None,\n",
    "    \"batch_size\": 32\n",
    "}\n",
    "worker = Worker(\n",
    "    table_name='housing',\n",
    "    settings=settings,\n",
    "    metadata_path=None,\n",
    "    log_level='DEBUG',\n",
    "    type=\"train\"\n",
    ")\n",
    "worker.launch_train()\n"
   ]
  },
  {
   "cell_type": "code",
   "execution_count": 17,
   "metadata": {},
   "outputs": [
    {
     "name": "stdout",
     "output_type": "stream",
     "text": [
      "\u001b[32m2023-06-26 16:11:52.214\u001b[0m | \u001b[1mINFO    \u001b[0m | \u001b[36msyngen.ml.custom_logger.custom_logger\u001b[0m:\u001b[36minfo\u001b[0m:\u001b[36m35\u001b[0m - \u001b[1mInfer process of the table - housing has started\u001b[0m\n",
      "\u001b[32m2023-06-26 16:11:52.221\u001b[0m | \u001b[34m\u001b[1mDEBUG   \u001b[0m | \u001b[36msyngen.ml.custom_logger.custom_logger\u001b[0m:\u001b[36mdebug\u001b[0m:\u001b[36m32\u001b[0m - \u001b[34m\u001b[1mInfer model with parameters: size=1000, run_parallel=False, batch_size=1000, random_seed=None, print_report=False\u001b[0m\n",
      "\u001b[32m2023-06-26 16:11:52.222\u001b[0m | \u001b[1mINFO    \u001b[0m | \u001b[36msyngen.ml.custom_logger.custom_logger\u001b[0m:\u001b[36minfo\u001b[0m:\u001b[36m35\u001b[0m - \u001b[1mTotal of 1 batch(es)\u001b[0m\n",
      "\u001b[32m2023-06-26 16:11:52.223\u001b[0m | \u001b[1mINFO    \u001b[0m | \u001b[36msyngen.ml.custom_logger.custom_logger\u001b[0m:\u001b[36minfo\u001b[0m:\u001b[36m35\u001b[0m - \u001b[1mStart data synthesis\u001b[0m\n",
      "\u001b[32m2023-06-26 16:11:53.049\u001b[0m | \u001b[1mINFO    \u001b[0m | \u001b[36msyngen.ml.custom_logger.custom_logger\u001b[0m:\u001b[36minfo\u001b[0m:\u001b[36m35\u001b[0m - \u001b[1mLoaded VAE state from model_artifacts/resources/housing/vae/checkpoints\u001b[0m\n",
      "32/32 [==============================] - 0s 1ms/step\n"
     ]
    },
    {
     "name": "stderr",
     "output_type": "stream",
     "text": [
      "Generation of the data...: 100%|██████████| 11/11 [00:00<00:00, 6410.64it/s]"
     ]
    },
    {
     "name": "stdout",
     "output_type": "stream",
     "text": [
      "\u001b[32m2023-06-26 16:11:53.437\u001b[0m | \u001b[1mINFO    \u001b[0m | \u001b[36msyngen.ml.custom_logger.custom_logger\u001b[0m:\u001b[36minfo\u001b[0m:\u001b[36m35\u001b[0m - \u001b[1mColumn total_bedrooms_null has 0 (0%) empty values generated.\u001b[0m\n",
      "\u001b[32m2023-06-26 16:11:53.450\u001b[0m | \u001b[1mINFO    \u001b[0m | \u001b[36msyngen.ml.custom_logger.custom_logger\u001b[0m:\u001b[36minfo\u001b[0m:\u001b[36m35\u001b[0m - \u001b[1mSynthesis of the table - housing was completed. Synthetic data saved in model_artifacts/tmp_store/housing/merged_infer_housing.csv\u001b[0m\n"
     ]
    },
    {
     "name": "stderr",
     "output_type": "stream",
     "text": [
      "\n"
     ]
    }
   ],
   "source": [
    "from syngen.ml.worker import Worker\n",
    "\n",
    "\n",
    "settings = {\n",
    "    \"size\": 1000,\n",
    "    \"run_parallel\": False,\n",
    "    \"batch_size\": None,\n",
    "    \"print_report\": False,\n",
    "    \"random_seed\": None\n",
    "}\n",
    "worker = Worker(\n",
    "    table_name='housing',\n",
    "    metadata_path=None,\n",
    "    settings=settings,\n",
    "    log_level='DEBUG',\n",
    "    type=\"infer\"\n",
    ")\n",
    "worker.launch_infer()\n"
   ]
  }
 ],
 "metadata": {
  "kernelspec": {
   "display_name": "Python 3 (ipykernel)",
   "language": "python",
   "name": "python3"
  },
  "language_info": {
   "codemirror_mode": {
    "name": "ipython",
    "version": 3
   },
   "file_extension": ".py",
   "mimetype": "text/x-python",
   "name": "python",
   "nbconvert_exporter": "python",
   "pygments_lexer": "ipython3",
   "version": "3.10.8"
  },
  "orig_nbformat": 4
 },
 "nbformat": 4,
 "nbformat_minor": 2
}
